{
 "cells": [
  {
   "cell_type": "code",
   "execution_count": 1,
   "id": "901e5e3b",
   "metadata": {
    "ExecuteTime": {
     "start_time": "2023-04-26T23:16:46.861047Z",
     "end_time": "2023-04-26T23:16:46.862883Z"
    }
   },
   "outputs": [],
   "source": [
    "\"\"\"\n",
    "Assumes CSV files are in the same directory\n",
    "\"\"\"\n",
    "import pandas as pd\n",
    "import matplotlib.pyplot as plt\n",
    "import seaborn as sns\n",
    "import ast\n",
    "\n",
    "from collections import Counter"
   ]
  },
  {
   "cell_type": "code",
   "execution_count": 2,
   "id": "fa9da211",
   "metadata": {
    "ExecuteTime": {
     "start_time": "2023-04-26T23:16:46.864860Z",
     "end_time": "2023-04-26T23:16:46.868588Z"
    }
   },
   "outputs": [],
   "source": [
    "# Env vars\n",
    "DATA_PATH_2018 = \"../../generic_repos/collect_data/2018.csv\"\n",
    "DATA_PATH_2019 = \"../../generic_repos/collect_data/2019.csv\"\n",
    "DATA_PATH_2020 = \"../../generic_repos/collect_data/2020.csv\"\n",
    "DATA_PATH_2021 = \"../../generic_repos/collect_data/2021.csv\"\n",
    "DATA_PATH_2022 = \"../../generic_repos/collect_data/2022.csv\"\n",
    "\n",
    "\n",
    "SEP = ','\n",
    "COL_NAMES = [\"RepoID\",\n",
    "            \"Name\",\n",
    "            \"Type\",\n",
    "            \"Topics\",\n",
    "            \"Visibility\",\n",
    "            \"Language\",\n",
    "            \"Published\",\n",
    "            \"Last_Modified\",\n",
    "            \"Stars\",\n",
    "            \"Forks\",\n",
    "            \"WatchCount\",\n",
    "            \"NetworkCount\",\n",
    "            \"IssueCount\",\n",
    "            \"PRCount\",\n",
    "            \"ProjectsCount\",\n",
    "            \"BranchCount\",\n",
    "            \"DownloadCount\",\n",
    "            \"ContributorCount\",\n",
    "            \"RepoURL\"]"
   ]
  },
  {
   "cell_type": "code",
   "execution_count": 3,
   "id": "fd4197ec",
   "metadata": {
    "ExecuteTime": {
     "start_time": "2023-04-26T23:16:46.866325Z",
     "end_time": "2023-04-26T23:16:46.952254Z"
    }
   },
   "outputs": [],
   "source": [
    "# Pull CSV to DF\n",
    "data_2018 = pd.read_csv(DATA_PATH_2018, sep=SEP, names=COL_NAMES)\n",
    "data_2019 = pd.read_csv(DATA_PATH_2019, sep=SEP, names=COL_NAMES)\n",
    "data_2020 = pd.read_csv(DATA_PATH_2020, sep=SEP, names=COL_NAMES)\n",
    "data_2021 = pd.read_csv(DATA_PATH_2021, sep=SEP, names=COL_NAMES)\n",
    "data_2022 = pd.read_csv(DATA_PATH_2022, sep=SEP, names=COL_NAMES)"
   ]
  },
  {
   "cell_type": "code",
   "execution_count": 4,
   "id": "8f85adba",
   "metadata": {
    "ExecuteTime": {
     "start_time": "2023-04-26T23:16:46.953549Z",
     "end_time": "2023-04-26T23:16:46.968884Z"
    }
   },
   "outputs": [],
   "source": [
    "# SANITIZING $\n",
    "\n",
    "# Remove duplicates\n",
    "data_2018.drop_duplicates(inplace=True)\n",
    "\n",
    "# convert 'Published' column to datetime format\n",
    "data_2018['Published'] = pd.to_datetime(data_2018['Published'])\n",
    "\n",
    "# extract year from the 'Published' column\n",
    "data_2018['Published'] = data_2018['Published'].dt.year\n",
    "\n",
    "# Fill NaN's\n",
    "data_2018['Published'].fillna(0).astype(int)\n",
    "data_2018['ProjectsCount'].fillna(0).astype(int)\n",
    "\n",
    "# Drop rows with no language val since that is what we care about\n",
    "data_2018.dropna(subset=['Language'], inplace=True)"
   ]
  },
  {
   "cell_type": "code",
   "execution_count": 5,
   "id": "c430d0b9",
   "metadata": {
    "ExecuteTime": {
     "start_time": "2023-04-26T23:16:46.970864Z",
     "end_time": "2023-04-26T23:16:46.985919Z"
    }
   },
   "outputs": [],
   "source": [
    "# Remove duplicates\n",
    "data_2019.drop_duplicates(inplace=True)\n",
    "\n",
    "# convert 'Published' column to datetime format\n",
    "data_2019['Published'] = pd.to_datetime(data_2019['Published'])\n",
    "\n",
    "# extract year from the 'Published' column\n",
    "data_2019['Published'] = data_2019['Published'].dt.year\n",
    "\n",
    "# Fill NaN's\n",
    "data_2019['Published'].fillna(0).astype(int)\n",
    "data_2019['ProjectsCount'].fillna(0).astype(int)\n",
    "\n",
    "# Drop rows with no language val since that is what we care about\n",
    "data_2019.dropna(subset=['Language'], inplace=True)"
   ]
  },
  {
   "cell_type": "code",
   "execution_count": 6,
   "id": "3f2e5c05",
   "metadata": {
    "ExecuteTime": {
     "start_time": "2023-04-26T23:16:46.984823Z",
     "end_time": "2023-04-26T23:16:46.997020Z"
    }
   },
   "outputs": [],
   "source": [
    "# Remove duplicates\n",
    "data_2020.drop_duplicates(inplace=True)\n",
    "\n",
    "# convert 'Published' column to datetime format\n",
    "data_2020['Published'] = pd.to_datetime(data_2020['Published'])\n",
    "\n",
    "# extract year from the 'Published' column\n",
    "data_2020['Published'] = data_2020['Published'].dt.year\n",
    "\n",
    "# Fill NaN's\n",
    "data_2020['Published'].fillna(0).astype(int)\n",
    "data_2020['ProjectsCount'].fillna(0).astype(int)\n",
    "\n",
    "# Drop rows with no language val since that is what we care about\n",
    "data_2020.dropna(subset=['Language'], inplace=True)"
   ]
  },
  {
   "cell_type": "code",
   "execution_count": 7,
   "id": "da42b15b",
   "metadata": {
    "ExecuteTime": {
     "start_time": "2023-04-26T23:16:46.998583Z",
     "end_time": "2023-04-26T23:16:47.006995Z"
    }
   },
   "outputs": [],
   "source": [
    "# Remove duplicates\n",
    "data_2021.drop_duplicates(inplace=True)\n",
    "\n",
    "# convert 'Published' column to datetime format\n",
    "data_2021['Published'] = pd.to_datetime(data_2021['Published'])\n",
    "\n",
    "# extract year from the 'Published' column\n",
    "data_2021['Published'] = data_2021['Published'].dt.year\n",
    "\n",
    "# Fill NaN's\n",
    "data_2021['Published'].fillna(0).astype(int)\n",
    "data_2021['ProjectsCount'].fillna(0).astype(int)\n",
    "\n",
    "# Drop rows with no language val since that is what we care about\n",
    "data_2021.dropna(subset=['Language'], inplace=True)"
   ]
  },
  {
   "cell_type": "code",
   "execution_count": 8,
   "id": "c53ec92b",
   "metadata": {
    "ExecuteTime": {
     "start_time": "2023-04-26T23:16:47.008570Z",
     "end_time": "2023-04-26T23:16:47.017022Z"
    }
   },
   "outputs": [],
   "source": [
    "# Remove duplicates\n",
    "data_2022.drop_duplicates(inplace=True)\n",
    "\n",
    "# convert 'Published' column to datetime format\n",
    "data_2022['Published'] = pd.to_datetime(data_2022['Published'])\n",
    "\n",
    "# extract year from the 'Published' column\n",
    "data_2022['Published'] = data_2022['Published'].dt.year\n",
    "\n",
    "# Fill NaN's\n",
    "data_2022['Published'].fillna(0).astype(int)\n",
    "data_2022['ProjectsCount'].fillna(0).astype(int)\n",
    "\n",
    "# Drop rows with no language val since that is what we care about\n",
    "data_2022.dropna(subset=['Language'], inplace=True)"
   ]
  },
  {
   "cell_type": "code",
   "execution_count": 9,
   "id": "1f1a441f",
   "metadata": {
    "ExecuteTime": {
     "start_time": "2023-04-26T23:16:47.017386Z",
     "end_time": "2023-04-26T23:16:47.021252Z"
    }
   },
   "outputs": [],
   "source": [
    "data_all = pd.concat([data_2018, data_2019, data_2020, data_2021, data_2022])"
   ]
  },
  {
   "cell_type": "code",
   "execution_count": 10,
   "id": "4ad6ad95",
   "metadata": {
    "ExecuteTime": {
     "start_time": "2023-04-26T23:16:47.027712Z",
     "end_time": "2023-04-26T23:16:47.033362Z"
    }
   },
   "outputs": [
    {
     "name": "stdout",
     "output_type": "stream",
     "text": [
      "<class 'pandas.core.frame.DataFrame'>\n",
      "Index: 24945 entries, 0 to 2473\n",
      "Data columns (total 19 columns):\n",
      " #   Column            Non-Null Count  Dtype \n",
      "---  ------            --------------  ----- \n",
      " 0   RepoID            24945 non-null  int64 \n",
      " 1   Name              24945 non-null  object\n",
      " 2   Type              24945 non-null  object\n",
      " 3   Topics            24945 non-null  object\n",
      " 4   Visibility        24945 non-null  object\n",
      " 5   Language          24945 non-null  object\n",
      " 6   Published         24945 non-null  int32 \n",
      " 7   Last_Modified     24945 non-null  object\n",
      " 8   Stars             24945 non-null  int64 \n",
      " 9   Forks             24945 non-null  int64 \n",
      " 10  WatchCount        24945 non-null  int64 \n",
      " 11  NetworkCount      24945 non-null  int64 \n",
      " 12  IssueCount        24945 non-null  int64 \n",
      " 13  PRCount           24945 non-null  int64 \n",
      " 14  ProjectsCount     24945 non-null  int64 \n",
      " 15  BranchCount       24945 non-null  int64 \n",
      " 16  DownloadCount     24945 non-null  int64 \n",
      " 17  ContributorCount  24945 non-null  int64 \n",
      " 18  RepoURL           24945 non-null  object\n",
      "dtypes: int32(1), int64(11), object(7)\n",
      "memory usage: 3.7+ MB\n"
     ]
    }
   ],
   "source": [
    "data_all.info()"
   ]
  }
 ],
 "metadata": {
  "kernelspec": {
   "display_name": "Python 3 (ipykernel)",
   "language": "python",
   "name": "python3"
  },
  "language_info": {
   "codemirror_mode": {
    "name": "ipython",
    "version": 3
   },
   "file_extension": ".py",
   "mimetype": "text/x-python",
   "name": "python",
   "nbconvert_exporter": "python",
   "pygments_lexer": "ipython3",
   "version": "3.9.13"
  }
 },
 "nbformat": 4,
 "nbformat_minor": 5
}
