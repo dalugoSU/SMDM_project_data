{
 "cells": [
  {
   "cell_type": "code",
   "execution_count": 21,
   "id": "901e5e3b",
   "metadata": {
    "ExecuteTime": {
     "start_time": "2023-04-26T23:04:57.180222Z",
     "end_time": "2023-04-26T23:04:57.184343Z"
    }
   },
   "outputs": [],
   "source": [
    "\"\"\"\n",
    "Assumes CSV files are in the same directory\n",
    "\"\"\"\n",
    "import pandas as pd\n",
    "import matplotlib.pyplot as plt\n",
    "import seaborn as sns"
   ]
  },
  {
   "cell_type": "code",
   "execution_count": 22,
   "id": "fa9da211",
   "metadata": {
    "ExecuteTime": {
     "start_time": "2023-04-26T23:04:57.183154Z",
     "end_time": "2023-04-26T23:04:57.185738Z"
    }
   },
   "outputs": [],
   "source": [
    "# Env vars\n",
    "DATA_PATH_FACEBOOK = \"../../big_companies/collect_data/facebook.csv\"\n",
    "DATA_PATH_AMAZON = \"../../big_companies/collect_data/amazon.csv\"\n",
    "DATA_PATH_APPLE = \"../../big_companies/collect_data/apple.csv\"\n",
    "DATA_PATH_MICROSOFT = \"../../big_companies/collect_data/microsoft.csv\"\n",
    "\n",
    "SEP = ','\n",
    "COL_NAMES = [\"RepoID\",\n",
    "            \"Name\",\n",
    "            \"Type\",\n",
    "            \"Topics\",\n",
    "            \"Visibility\",\n",
    "            \"Language\",\n",
    "            \"LanguageURL\",\n",
    "            \"Published\",\n",
    "            \"Last_Modified\",\n",
    "            \"Stars\",\n",
    "            \"Forks\",\n",
    "            \"WatchCount\",\n",
    "            \"NetworkCount\",\n",
    "            \"IssueCount\",\n",
    "            \"PRCount\",\n",
    "            \"ProjectsCount\",\n",
    "            \"BranchCount\",\n",
    "            \"DownloadCount\",\n",
    "            \"ContributorCount\",\n",
    "            \"RepoURL\"]"
   ]
  },
  {
   "cell_type": "code",
   "execution_count": 23,
   "id": "fd4197ec",
   "metadata": {
    "ExecuteTime": {
     "start_time": "2023-04-26T23:04:57.187300Z",
     "end_time": "2023-04-26T23:04:57.212566Z"
    }
   },
   "outputs": [],
   "source": [
    "# Pull CSV to DF\n",
    "data_facebook = pd.read_csv(DATA_PATH_FACEBOOK, sep=SEP, names=COL_NAMES)\n",
    "data_amazon = pd.read_csv(DATA_PATH_AMAZON, sep=SEP, names=COL_NAMES)\n",
    "data_apple = pd.read_csv(DATA_PATH_APPLE, sep=SEP, names=COL_NAMES)\n",
    "data_microsoft = pd.read_csv(DATA_PATH_MICROSOFT, sep=SEP, names=COL_NAMES)"
   ]
  },
  {
   "cell_type": "code",
   "execution_count": 24,
   "id": "8f85adba",
   "metadata": {
    "ExecuteTime": {
     "start_time": "2023-04-26T23:04:57.218105Z",
     "end_time": "2023-04-26T23:04:57.220417Z"
    }
   },
   "outputs": [],
   "source": [
    "# SANITIZING $\n",
    "\n",
    "# Remove duplicates\n",
    "data_facebook.drop_duplicates(inplace=True)\n",
    "\n",
    "# convert 'Published' column to datetime format\n",
    "data_facebook['Published'] = pd.to_datetime(data_facebook['Published'])\n",
    "\n",
    "# extract year from the 'Published' column\n",
    "data_facebook['Published'] = data_facebook['Published'].dt.year\n",
    "\n",
    "# Fill NaN's\n",
    "data_facebook['Published'].fillna(0).astype(int)\n",
    "data_facebook['ProjectsCount'].fillna(0).astype(int)\n",
    "\n",
    "# Drop rows with no language val since that is what we care about\n",
    "data_facebook.dropna(subset=['Language'], inplace=True)"
   ]
  },
  {
   "cell_type": "code",
   "execution_count": 25,
   "id": "c430d0b9",
   "metadata": {
    "ExecuteTime": {
     "start_time": "2023-04-26T23:04:57.221842Z",
     "end_time": "2023-04-26T23:04:57.226416Z"
    }
   },
   "outputs": [],
   "source": [
    "# Remove duplicates\n",
    "data_amazon.drop_duplicates(inplace=True)\n",
    "\n",
    "# convert 'Published' column to datetime format\n",
    "data_amazon['Published'] = pd.to_datetime(data_amazon['Published'])\n",
    "\n",
    "# extract year from the 'Published' column\n",
    "data_amazon['Published'] = data_amazon['Published'].dt.year\n",
    "\n",
    "# Fill NaN's\n",
    "data_amazon['Published'].fillna(0).astype(int)\n",
    "data_amazon['ProjectsCount'].fillna(0).astype(int)\n",
    "\n",
    "# Drop rows with no language val since that is what we care about\n",
    "data_amazon.dropna(subset=['Language'], inplace=True)"
   ]
  },
  {
   "cell_type": "code",
   "execution_count": 26,
   "id": "3f2e5c05",
   "metadata": {
    "ExecuteTime": {
     "start_time": "2023-04-26T23:04:57.228009Z",
     "end_time": "2023-04-26T23:04:57.232659Z"
    }
   },
   "outputs": [],
   "source": [
    "# Remove duplicates\n",
    "data_apple.drop_duplicates(inplace=True)\n",
    "\n",
    "# convert 'Published' column to datetime data_apple\n",
    "data_apple['Published'] = pd.to_datetime(data_apple['Published'])\n",
    "\n",
    "# extract year from the 'Published' column\n",
    "data_apple['Published'] = data_apple['Published'].dt.year\n",
    "\n",
    "# Fill NaN's\n",
    "data_apple['Published'].fillna(0).astype(int)\n",
    "data_apple['ProjectsCount'].fillna(0).astype(int)\n",
    "\n",
    "# Drop rows with no language val since that is what we care about\n",
    "data_apple.dropna(subset=['Language'], inplace=True)"
   ]
  },
  {
   "cell_type": "code",
   "execution_count": 27,
   "id": "da42b15b",
   "metadata": {
    "ExecuteTime": {
     "start_time": "2023-04-26T23:04:57.233778Z",
     "end_time": "2023-04-26T23:04:57.246049Z"
    }
   },
   "outputs": [],
   "source": [
    "# Remove duplicates\n",
    "data_microsoft.drop_duplicates(inplace=True)\n",
    "\n",
    "# convert 'Published' column to datetime format\n",
    "data_microsoft['Published'] = pd.to_datetime(data_microsoft['Published'])\n",
    "\n",
    "# extract year from the 'Published' column\n",
    "data_microsoft['Published'] = data_microsoft['Published'].dt.year\n",
    "\n",
    "# Fill NaN's\n",
    "data_microsoft['Published'].fillna(0).astype(int)\n",
    "data_microsoft['ProjectsCount'].fillna(0).astype(int)\n",
    "\n",
    "# Drop rows with no language val since that is what we care about\n",
    "data_microsoft.dropna(subset=['Language'], inplace=True)"
   ]
  },
  {
   "cell_type": "code",
   "execution_count": 28,
   "id": "1f1a441f",
   "metadata": {
    "ExecuteTime": {
     "start_time": "2023-04-26T23:04:57.246695Z",
     "end_time": "2023-04-26T23:04:57.250090Z"
    }
   },
   "outputs": [],
   "source": [
    "data_all = pd.concat([data_facebook, data_amazon, data_apple, data_microsoft])"
   ]
  },
  {
   "cell_type": "code",
   "execution_count": 29,
   "id": "eb92e5f7",
   "metadata": {
    "ExecuteTime": {
     "start_time": "2023-04-26T23:04:57.251096Z",
     "end_time": "2023-04-26T23:04:57.254143Z"
    }
   },
   "outputs": [],
   "source": [
    "# Assumes csv import code is above\n",
    "language_means_ContributorCount = data_all.groupby(\n",
    "    \"Language\"\n",
    ")[\"ContributorCount\"].sum().reset_index().sort_values(by=\"ContributorCount\", ascending=True)"
   ]
  },
  {
   "cell_type": "code",
   "execution_count": 30,
   "id": "9a02d1a6",
   "metadata": {
    "ExecuteTime": {
     "start_time": "2023-04-26T23:04:57.259556Z",
     "end_time": "2023-04-26T23:04:57.378539Z"
    }
   },
   "outputs": [
    {
     "data": {
      "text/plain": "<Figure size 500x700 with 1 Axes>",
      "image/png": "[encoded data removed]"
     },
     "metadata": {},
     "output_type": "display_data"
    }
   ],
   "source": [
    "# Copy frame and select attribute to explore\n",
    "language_data = language_means_ContributorCount\n",
    "attribute = \"ContributorCount\" # Attribute\n",
    "row_amount = 10     # Number of rows to plot\n",
    "\n",
    "# set figure size\n",
    "fig, ax = plt.subplots(figsize=(5, 7))\n",
    "\n",
    "# Select color for edge\n",
    "plt.rcParams['axes.edgecolor'] = '#fc4293'\n",
    "\n",
    "# Remove edge on right and left sides of graph\n",
    "ax.spines['top'].set_visible(True)\n",
    "ax.spines['right'].set_visible(False)\n",
    "ax.spines['left'].set_visible(False)\n",
    "# ax.tick_params(axis='both', which='both', labelsize=10, bottom=True, left=False)\n",
    "\n",
    "# remove grid and set background color\n",
    "ax.grid(False)\n",
    "ax.set_facecolor('white')\n",
    "\n",
    "# plot the data from language head\n",
    "# Select head() for top amount to showcase\n",
    "# Data is already sorted by stars so most starred will be at the top\n",
    "# The more rows to showcase the height parameter in figsize should be adjusted as well\n",
    "# i.e 10 for head(50)\n",
    "sns.barplot(data=language_data.head(row_amount), x=attribute, y='Language');\n",
    "\n",
    "# X/Y axis titles and style\n",
    "ax.set_xlabel(f'{attribute}', fontsize=13, color='#8f0d18')\n",
    "ax.set_ylabel('Language', fontsize=13, color='#8f0d18')\n",
    "fig.suptitle(f'Average {attribute}; Bottom {row_amount} Languages in Big Corp', fontsize=13, color='#8f0d18');"
   ]
  }
 ],
 "metadata": {
  "kernelspec": {
   "display_name": "Python 3 (ipykernel)",
   "language": "python",
   "name": "python3"
  },
  "language_info": {
   "codemirror_mode": {
    "name": "ipython",
    "version": 3
   },
   "file_extension": ".py",
   "mimetype": "text/x-python",
   "name": "python",
   "nbconvert_exporter": "python",
   "pygments_lexer": "ipython3",
   "version": "3.9.13"
  }
 },
 "nbformat": 4,
 "nbformat_minor": 5
}
