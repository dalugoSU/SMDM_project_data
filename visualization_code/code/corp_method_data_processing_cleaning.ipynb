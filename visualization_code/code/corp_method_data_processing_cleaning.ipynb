{
 "cells": [
  {
   "cell_type": "code",
   "execution_count": 1,
   "id": "901e5e3b",
   "metadata": {
    "ExecuteTime": {
     "start_time": "2023-04-26T23:13:07.775808Z",
     "end_time": "2023-04-26T23:13:07.777956Z"
    }
   },
   "outputs": [],
   "source": [
    "\"\"\"\n",
    "Assumes CSV files are in the same directory\n",
    "\"\"\"\n",
    "import pandas as pd"
   ]
  },
  {
   "cell_type": "code",
   "execution_count": 2,
   "id": "fa9da211",
   "metadata": {
    "ExecuteTime": {
     "start_time": "2023-04-26T23:13:07.779310Z",
     "end_time": "2023-04-26T23:13:07.781289Z"
    }
   },
   "outputs": [],
   "source": [
    "# Env vars\n",
    "DATA_PATH_FACEBOOK = \"../../big_companies/collect_data/facebook.csv\"\n",
    "DATA_PATH_AMAZON = \"../../big_companies/collect_data/amazon.csv\"\n",
    "DATA_PATH_APPLE = \"../../big_companies/collect_data/apple.csv\"\n",
    "DATA_PATH_MICROSOFT = \"../../big_companies/collect_data/microsoft.csv\"\n",
    "\n",
    "SEP = ','\n",
    "COL_NAMES = [\"RepoID\",\n",
    "            \"Name\",\n",
    "            \"Type\",\n",
    "            \"Topics\",\n",
    "            \"Visibility\",\n",
    "            \"Language\",\n",
    "            \"LanguageURL\",\n",
    "            \"Published\",\n",
    "            \"Last_Modified\",\n",
    "            \"Stars\",\n",
    "            \"Forks\",\n",
    "            \"WatchCount\",\n",
    "            \"NetworkCount\",\n",
    "            \"IssueCount\",\n",
    "            \"PRCount\",\n",
    "            \"ProjectsCount\",\n",
    "            \"BranchCount\",\n",
    "            \"DownloadCount\",\n",
    "            \"ContributorCount\",\n",
    "            \"RepoURL\"]"
   ]
  },
  {
   "cell_type": "code",
   "execution_count": 3,
   "id": "fd4197ec",
   "metadata": {
    "ExecuteTime": {
     "start_time": "2023-04-26T23:13:07.783085Z",
     "end_time": "2023-04-26T23:13:07.808612Z"
    }
   },
   "outputs": [],
   "source": [
    "# Pull CSV to DF\n",
    "data_facebook = pd.read_csv(DATA_PATH_FACEBOOK, sep=SEP, names=COL_NAMES)\n",
    "data_amazon = pd.read_csv(DATA_PATH_AMAZON, sep=SEP, names=COL_NAMES)\n",
    "data_apple = pd.read_csv(DATA_PATH_APPLE, sep=SEP, names=COL_NAMES)\n",
    "data_microsoft = pd.read_csv(DATA_PATH_MICROSOFT, sep=SEP, names=COL_NAMES)"
   ]
  },
  {
   "cell_type": "code",
   "execution_count": 4,
   "id": "8f85adba",
   "metadata": {
    "ExecuteTime": {
     "start_time": "2023-04-26T23:13:07.810565Z",
     "end_time": "2023-04-26T23:13:07.816304Z"
    }
   },
   "outputs": [],
   "source": [
    "# SANITIZING $\n",
    "\n",
    "# Remove duplicates\n",
    "data_facebook.drop_duplicates(inplace=True)\n",
    "\n",
    "# convert 'Published' column to datetime format\n",
    "data_facebook['Published'] = pd.to_datetime(data_facebook['Published'])\n",
    "\n",
    "# extract year from the 'Published' column\n",
    "data_facebook['Published'] = data_facebook['Published'].dt.year\n",
    "\n",
    "# Fill NaN's\n",
    "data_facebook['Published'].fillna(0).astype(int)\n",
    "data_facebook['ProjectsCount'].fillna(0).astype(int)\n",
    "\n",
    "# Drop rows with no language val since that is what we care about\n",
    "data_facebook.dropna(subset=['Language'], inplace=True)"
   ]
  },
  {
   "cell_type": "code",
   "execution_count": 5,
   "id": "c430d0b9",
   "metadata": {
    "ExecuteTime": {
     "start_time": "2023-04-26T23:13:07.818647Z",
     "end_time": "2023-04-26T23:13:07.822689Z"
    }
   },
   "outputs": [],
   "source": [
    "# Remove duplicates\n",
    "data_amazon.drop_duplicates(inplace=True)\n",
    "\n",
    "# convert 'Published' column to datetime format\n",
    "data_amazon['Published'] = pd.to_datetime(data_amazon['Published'])\n",
    "\n",
    "# extract year from the 'Published' column\n",
    "data_amazon['Published'] = data_amazon['Published'].dt.year\n",
    "\n",
    "# Fill NaN's\n",
    "data_amazon['Published'].fillna(0).astype(int)\n",
    "data_amazon['ProjectsCount'].fillna(0).astype(int)\n",
    "\n",
    "# Drop rows with no language val since that is what we care about\n",
    "data_amazon.dropna(subset=['Language'], inplace=True)"
   ]
  },
  {
   "cell_type": "code",
   "execution_count": 6,
   "id": "3f2e5c05",
   "metadata": {
    "ExecuteTime": {
     "start_time": "2023-04-26T23:13:07.824177Z",
     "end_time": "2023-04-26T23:13:07.829308Z"
    }
   },
   "outputs": [],
   "source": [
    "# Remove duplicates\n",
    "data_apple.drop_duplicates(inplace=True)\n",
    "\n",
    "# convert 'Published' column to datetime data_apple\n",
    "data_apple['Published'] = pd.to_datetime(data_apple['Published'])\n",
    "\n",
    "# extract year from the 'Published' column\n",
    "data_apple['Published'] = data_apple['Published'].dt.year\n",
    "\n",
    "# Fill NaN's\n",
    "data_apple['Published'].fillna(0).astype(int)\n",
    "data_apple['ProjectsCount'].fillna(0).astype(int)\n",
    "\n",
    "# Drop rows with no language val since that is what we care about\n",
    "data_apple.dropna(subset=['Language'], inplace=True)"
   ]
  },
  {
   "cell_type": "code",
   "execution_count": 7,
   "id": "da42b15b",
   "metadata": {
    "ExecuteTime": {
     "start_time": "2023-04-26T23:13:07.830472Z",
     "end_time": "2023-04-26T23:13:07.842562Z"
    }
   },
   "outputs": [],
   "source": [
    "# Remove duplicates\n",
    "data_microsoft.drop_duplicates(inplace=True)\n",
    "\n",
    "# convert 'Published' column to datetime format\n",
    "data_microsoft['Published'] = pd.to_datetime(data_microsoft['Published'])\n",
    "\n",
    "# extract year from the 'Published' column\n",
    "data_microsoft['Published'] = data_microsoft['Published'].dt.year\n",
    "\n",
    "# Fill NaN's\n",
    "data_microsoft['Published'].fillna(0).astype(int)\n",
    "data_microsoft['ProjectsCount'].fillna(0).astype(int)\n",
    "\n",
    "# Drop rows with no language val since that is what we care about\n",
    "data_microsoft.dropna(subset=['Language'], inplace=True)"
   ]
  },
  {
   "cell_type": "code",
   "execution_count": 8,
   "id": "1f1a441f",
   "metadata": {
    "ExecuteTime": {
     "start_time": "2023-04-26T23:13:07.843012Z",
     "end_time": "2023-04-26T23:13:07.846654Z"
    }
   },
   "outputs": [],
   "source": [
    "data_all = pd.concat([data_facebook, data_amazon, data_apple, data_microsoft])"
   ]
  },
  {
   "cell_type": "code",
   "execution_count": 9,
   "id": "4ad6ad95",
   "metadata": {
    "scrolled": false,
    "ExecuteTime": {
     "start_time": "2023-04-26T23:13:07.846783Z",
     "end_time": "2023-04-26T23:13:07.852698Z"
    }
   },
   "outputs": [
    {
     "name": "stdout",
     "output_type": "stream",
     "text": [
      "<class 'pandas.core.frame.DataFrame'>\n",
      "Index: 5180 entries, 0 to 5535\n",
      "Data columns (total 20 columns):\n",
      " #   Column            Non-Null Count  Dtype \n",
      "---  ------            --------------  ----- \n",
      " 0   RepoID            5180 non-null   int64 \n",
      " 1   Name              5180 non-null   object\n",
      " 2   Type              5180 non-null   object\n",
      " 3   Topics            5180 non-null   object\n",
      " 4   Visibility        5180 non-null   object\n",
      " 5   Language          5180 non-null   object\n",
      " 6   LanguageURL       5180 non-null   object\n",
      " 7   Published         5180 non-null   int32 \n",
      " 8   Last_Modified     5180 non-null   object\n",
      " 9   Stars             5180 non-null   int64 \n",
      " 10  Forks             5180 non-null   int64 \n",
      " 11  WatchCount        5180 non-null   int64 \n",
      " 12  NetworkCount      5180 non-null   int64 \n",
      " 13  IssueCount        5180 non-null   int64 \n",
      " 14  PRCount           5180 non-null   int64 \n",
      " 15  ProjectsCount     5180 non-null   int64 \n",
      " 16  BranchCount       5180 non-null   int64 \n",
      " 17  DownloadCount     5180 non-null   int64 \n",
      " 18  ContributorCount  5180 non-null   int64 \n",
      " 19  RepoURL           5180 non-null   object\n",
      "dtypes: int32(1), int64(11), object(8)\n",
      "memory usage: 829.6+ KB\n"
     ]
    }
   ],
   "source": [
    "data_all.info()"
   ]
  }
 ],
 "metadata": {
  "kernelspec": {
   "display_name": "Python 3 (ipykernel)",
   "language": "python",
   "name": "python3"
  },
  "language_info": {
   "codemirror_mode": {
    "name": "ipython",
    "version": 3
   },
   "file_extension": ".py",
   "mimetype": "text/x-python",
   "name": "python",
   "nbconvert_exporter": "python",
   "pygments_lexer": "ipython3",
   "version": "3.9.13"
  }
 },
 "nbformat": 4,
 "nbformat_minor": 5
}
