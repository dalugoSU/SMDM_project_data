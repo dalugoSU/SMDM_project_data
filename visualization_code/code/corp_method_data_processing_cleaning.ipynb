{
 "cells": [
  {
   "cell_type": "code",
   "execution_count": 1,
   "id": "901e5e3b",
   "metadata": {},
   "outputs": [],
   "source": [
    "\"\"\"\n",
    "Assumes CSV files are in the same directory\n",
    "\"\"\"\n",
    "import pandas as pd\n",
    "import matplotlib.pyplot as plt\n",
    "import seaborn as sns\n",
    "import ast\n",
    "\n",
    "from collections import Counter"
   ]
  },
  {
   "cell_type": "code",
   "execution_count": 2,
   "id": "fa9da211",
   "metadata": {},
   "outputs": [],
   "source": [
    "# Env vars\n",
    "DATA_PATH_FACEBOOK = \"facebook.csv\"\n",
    "DATA_PATH_AMAZON = \"amazon.csv\"\n",
    "DATA_PATH_APPLE = \"apple.csv\"\n",
    "DATA_PATH_MICROSOFT = \"microsoft.csv\"\n",
    "\n",
    "SEP = ','\n",
    "COL_NAMES = [\"RepoID\",\n",
    "            \"Name\",\n",
    "            \"Type\",\n",
    "            \"Topics\",\n",
    "            \"Visibility\",\n",
    "            \"Language\",\n",
    "            \"Published\",\n",
    "            \"Last_Modified\",\n",
    "            \"Stars\",\n",
    "            \"Forks\",\n",
    "            \"WatchCount\",\n",
    "            \"NetworkCount\",\n",
    "            \"IssueCount\",\n",
    "            \"PRCount\",\n",
    "            \"ProjectsCount\",\n",
    "            \"BranchCount\",\n",
    "            \"DownloadCount\",\n",
    "            \"ContributorCount\",\n",
    "            \"RepoURL\"]"
   ]
  },
  {
   "cell_type": "code",
   "execution_count": 3,
   "id": "fd4197ec",
   "metadata": {},
   "outputs": [],
   "source": [
    "# Pull CSV to DF\n",
    "data_facebook = pd.read_csv(DATA_PATH_FACEBOOK, sep=SEP, names=COL_NAMES)\n",
    "data_amazon = pd.read_csv(DATA_PATH_AMAZON, sep=SEP, names=COL_NAMES)\n",
    "data_apple = pd.read_csv(DATA_PATH_APPLE, sep=SEP, names=COL_NAMES)\n",
    "data_microsoft = pd.read_csv(DATA_PATH_MICROSOFT, sep=SEP, names=COL_NAMES)"
   ]
  },
  {
   "cell_type": "code",
   "execution_count": 4,
   "id": "8f85adba",
   "metadata": {},
   "outputs": [],
   "source": [
    "# SANITIZING $\n",
    "\n",
    "# Remove duplicates\n",
    "data_facebook.drop_duplicates(inplace=True)\n",
    "\n",
    "# convert 'Published' column to datetime format\n",
    "data_facebook['Published'] = pd.to_datetime(data_facebook['Published'])\n",
    "\n",
    "# extract year from the 'Published' column\n",
    "data_facebook['Published'] = data_facebook['Published'].dt.year\n",
    "\n",
    "# Fill NaN's\n",
    "data_facebook['Published'].fillna(0).astype(int)\n",
    "data_facebook['ProjectsCount'].fillna(0).astype(int)\n",
    "\n",
    "# Drop rows with no language val since that is what we care about\n",
    "data_facebook.dropna(subset=['Language'], inplace=True)"
   ]
  },
  {
   "cell_type": "code",
   "execution_count": 5,
   "id": "c430d0b9",
   "metadata": {},
   "outputs": [],
   "source": [
    "# Remove duplicates\n",
    "data_amazon.drop_duplicates(inplace=True)\n",
    "\n",
    "# convert 'Published' column to datetime format\n",
    "data_amazon['Published'] = pd.to_datetime(data_amazon['Published'])\n",
    "\n",
    "# extract year from the 'Published' column\n",
    "data_amazon['Published'] = data_amazon['Published'].dt.year\n",
    "\n",
    "# Fill NaN's\n",
    "data_amazon['Published'].fillna(0).astype(int)\n",
    "data_amazon['ProjectsCount'].fillna(0).astype(int)\n",
    "\n",
    "# Drop rows with no language val since that is what we care about\n",
    "data_amazon.dropna(subset=['Language'], inplace=True)"
   ]
  },
  {
   "cell_type": "code",
   "execution_count": 8,
   "id": "3f2e5c05",
   "metadata": {},
   "outputs": [],
   "source": [
    "# Remove duplicates\n",
    "data_apple.drop_duplicates(inplace=True)\n",
    "\n",
    "# convert 'Published' column to datetime data_apple\n",
    "data_apple['Published'] = pd.to_datetime(data_apple['Published'])\n",
    "\n",
    "# extract year from the 'Published' column\n",
    "data_apple['Published'] = data_apple['Published'].dt.year\n",
    "\n",
    "# Fill NaN's\n",
    "data_apple['Published'].fillna(0).astype(int)\n",
    "data_apple['ProjectsCount'].fillna(0).astype(int)\n",
    "\n",
    "# Drop rows with no language val since that is what we care about\n",
    "data_apple.dropna(subset=['Language'], inplace=True)"
   ]
  },
  {
   "cell_type": "code",
   "execution_count": 9,
   "id": "da42b15b",
   "metadata": {},
   "outputs": [],
   "source": [
    "# Remove duplicates\n",
    "data_microsoft.drop_duplicates(inplace=True)\n",
    "\n",
    "# convert 'Published' column to datetime format\n",
    "data_microsoft['Published'] = pd.to_datetime(data_microsoft['Published'])\n",
    "\n",
    "# extract year from the 'Published' column\n",
    "data_microsoft['Published'] = data_microsoft['Published'].dt.year\n",
    "\n",
    "# Fill NaN's\n",
    "data_microsoft['Published'].fillna(0).astype(int)\n",
    "data_microsoft['ProjectsCount'].fillna(0).astype(int)\n",
    "\n",
    "# Drop rows with no language val since that is what we care about\n",
    "data_microsoft.dropna(subset=['Language'], inplace=True)"
   ]
  },
  {
   "cell_type": "code",
   "execution_count": 10,
   "id": "1f1a441f",
   "metadata": {},
   "outputs": [],
   "source": [
    "data_all = pd.concat([data_facebook, data_amazon, data_apple, data_microsoft])"
   ]
  },
  {
   "cell_type": "code",
   "execution_count": 11,
   "id": "4ad6ad95",
   "metadata": {
    "scrolled": false
   },
   "outputs": [
    {
     "name": "stdout",
     "output_type": "stream",
     "text": [
      "<class 'pandas.core.frame.DataFrame'>\n",
      "Int64Index: 5989 entries, 623564659 to 1932083\n",
      "Data columns (total 19 columns):\n",
      " #   Column            Non-Null Count  Dtype \n",
      "---  ------            --------------  ----- \n",
      " 0   RepoID            5989 non-null   object\n",
      " 1   Name              5989 non-null   object\n",
      " 2   Type              5989 non-null   object\n",
      " 3   Topics            5989 non-null   object\n",
      " 4   Visibility        5180 non-null   object\n",
      " 5   Language          5989 non-null   object\n",
      " 6   Published         5989 non-null   int64 \n",
      " 7   Last_Modified     5989 non-null   object\n",
      " 8   Stars             5989 non-null   int64 \n",
      " 9   Forks             5989 non-null   int64 \n",
      " 10  WatchCount        5989 non-null   int64 \n",
      " 11  NetworkCount      5989 non-null   int64 \n",
      " 12  IssueCount        5989 non-null   int64 \n",
      " 13  PRCount           5989 non-null   int64 \n",
      " 14  ProjectsCount     5989 non-null   int64 \n",
      " 15  BranchCount       5989 non-null   int64 \n",
      " 16  DownloadCount     5989 non-null   int64 \n",
      " 17  ContributorCount  5989 non-null   int64 \n",
      " 18  RepoURL           5989 non-null   object\n",
      "dtypes: int64(11), object(8)\n",
      "memory usage: 935.8+ KB\n"
     ]
    }
   ],
   "source": [
    "data_all.info()"
   ]
  }
 ],
 "metadata": {
  "kernelspec": {
   "display_name": "Python 3 (ipykernel)",
   "language": "python",
   "name": "python3"
  },
  "language_info": {
   "codemirror_mode": {
    "name": "ipython",
    "version": 3
   },
   "file_extension": ".py",
   "mimetype": "text/x-python",
   "name": "python",
   "nbconvert_exporter": "python",
   "pygments_lexer": "ipython3",
   "version": "3.9.13"
  }
 },
 "nbformat": 4,
 "nbformat_minor": 5
}
