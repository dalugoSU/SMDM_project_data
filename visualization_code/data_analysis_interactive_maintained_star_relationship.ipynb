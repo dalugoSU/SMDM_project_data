{
 "cells": [
  {
   "cell_type": "code",
   "execution_count": 1,
   "id": "901e5e3b",
   "metadata": {
    "ExecuteTime": {
     "start_time": "2023-04-26T23:01:50.478107Z",
     "end_time": "2023-04-26T23:01:50.480302Z"
    }
   },
   "outputs": [],
   "source": [
    "import pandas as pd\n",
    "import ipywidgets as widgets\n",
    "import matplotlib.pyplot as plt\n",
    "import seaborn as sns\n",
    "import pytz\n",
    "\n",
    "from IPython.display import display\n",
    "from ipywidgets import interact"
   ]
  },
  {
   "cell_type": "code",
   "execution_count": 2,
   "id": "fa9da211",
   "metadata": {
    "ExecuteTime": {
     "start_time": "2023-04-26T23:01:50.485200Z",
     "end_time": "2023-04-26T23:01:50.485955Z"
    }
   },
   "outputs": [],
   "source": [
    "# Env vars\n",
    "DATA_PATH_2018 = \"../generic_repos/collect_data/2018.csv\"\n",
    "DATA_PATH_2019 = \"../generic_repos/collect_data/2019.csv\"\n",
    "DATA_PATH_2020 = \"../generic_repos/collect_data/2020.csv\"\n",
    "DATA_PATH_2021 = \"../generic_repos/collect_data/2021.csv\"\n",
    "DATA_PATH_2022 = \"../generic_repos/collect_data/2022.csv\"\n",
    "\n",
    "\n",
    "SEP = ','\n",
    "COL_NAMES = [\"RepoID\",\n",
    "            \"Name\",\n",
    "            \"Type\",\n",
    "            \"Topics\",\n",
    "            \"Visibility\",\n",
    "            \"Language\",\n",
    "            \"Published\",\n",
    "            \"Last_Modified\",\n",
    "            \"Stars\",\n",
    "            \"Forks\",\n",
    "            \"WatchCount\",\n",
    "            \"NetworkCount\",\n",
    "            \"IssueCount\",\n",
    "            \"PRCount\",\n",
    "            \"ProjectsCount\",\n",
    "            \"BranchCount\",\n",
    "            \"DownloadCount\",\n",
    "            \"ContributorCount\",\n",
    "            \"RepoURL\"]"
   ]
  },
  {
   "cell_type": "code",
   "execution_count": 3,
   "id": "fd4197ec",
   "metadata": {
    "ExecuteTime": {
     "start_time": "2023-04-26T23:01:50.485519Z",
     "end_time": "2023-04-26T23:01:50.563947Z"
    }
   },
   "outputs": [],
   "source": [
    "# Pull CSV to DF\n",
    "data_2018 = pd.read_csv(DATA_PATH_2018, sep=SEP, names=COL_NAMES)\n",
    "data_2019 = pd.read_csv(DATA_PATH_2019, sep=SEP, names=COL_NAMES)\n",
    "data_2020 = pd.read_csv(DATA_PATH_2020, sep=SEP, names=COL_NAMES)\n",
    "data_2021 = pd.read_csv(DATA_PATH_2021, sep=SEP, names=COL_NAMES)\n",
    "data_2022 = pd.read_csv(DATA_PATH_2022, sep=SEP, names=COL_NAMES)"
   ]
  },
  {
   "cell_type": "code",
   "execution_count": 4,
   "id": "8f85adba",
   "metadata": {
    "ExecuteTime": {
     "start_time": "2023-04-26T23:01:50.565213Z",
     "end_time": "2023-04-26T23:01:50.579564Z"
    }
   },
   "outputs": [],
   "source": [
    "# SANITIZING $\n",
    "\n",
    "# Remove duplicates\n",
    "data_2018.drop_duplicates(inplace=True)\n",
    "\n",
    "# convert 'Published' column to datetime format\n",
    "data_2018['Published'] = pd.to_datetime(data_2018['Published'])\n",
    "\n",
    "# extract year from the 'Published' column\n",
    "data_2018['Published'] = data_2018['Published'].dt.year\n",
    "\n",
    "# Fill NaN's\n",
    "data_2018['Published'].fillna(0).astype(int)\n",
    "data_2018['ProjectsCount'].fillna(0).astype(int)\n",
    "\n",
    "# Drop rows with no language val since that is what we care about\n",
    "data_2018.dropna(subset=['Language'], inplace=True)"
   ]
  },
  {
   "cell_type": "code",
   "execution_count": 5,
   "id": "c430d0b9",
   "metadata": {
    "ExecuteTime": {
     "start_time": "2023-04-26T23:01:50.580659Z",
     "end_time": "2023-04-26T23:01:50.598178Z"
    }
   },
   "outputs": [],
   "source": [
    "# Remove duplicates\n",
    "data_2019.drop_duplicates(inplace=True)\n",
    "\n",
    "# convert 'Published' column to datetime format\n",
    "data_2019['Published'] = pd.to_datetime(data_2019['Published'])\n",
    "\n",
    "# extract year from the 'Published' column\n",
    "data_2019['Published'] = data_2019['Published'].dt.year\n",
    "\n",
    "# Fill NaN's\n",
    "data_2019['Published'].fillna(0).astype(int)\n",
    "data_2019['ProjectsCount'].fillna(0).astype(int)\n",
    "\n",
    "# Drop rows with no language val since that is what we care about\n",
    "data_2019.dropna(subset=['Language'], inplace=True)"
   ]
  },
  {
   "cell_type": "code",
   "execution_count": 6,
   "id": "3f2e5c05",
   "metadata": {
    "ExecuteTime": {
     "start_time": "2023-04-26T23:01:50.595120Z",
     "end_time": "2023-04-26T23:01:50.606792Z"
    }
   },
   "outputs": [],
   "source": [
    "# Remove duplicates\n",
    "data_2020.drop_duplicates(inplace=True)\n",
    "\n",
    "# convert 'Published' column to datetime format\n",
    "data_2020['Published'] = pd.to_datetime(data_2020['Published'])\n",
    "\n",
    "# extract year from the 'Published' column\n",
    "data_2020['Published'] = data_2020['Published'].dt.year\n",
    "\n",
    "# Fill NaN's\n",
    "data_2020['Published'].fillna(0).astype(int)\n",
    "data_2020['ProjectsCount'].fillna(0).astype(int)\n",
    "\n",
    "# Drop rows with no language val since that is what we care about\n",
    "data_2020.dropna(subset=['Language'], inplace=True)"
   ]
  },
  {
   "cell_type": "code",
   "execution_count": 7,
   "id": "da42b15b",
   "metadata": {
    "ExecuteTime": {
     "start_time": "2023-04-26T23:01:50.607785Z",
     "end_time": "2023-04-26T23:01:50.617786Z"
    }
   },
   "outputs": [],
   "source": [
    "# Remove duplicates\n",
    "data_2021.drop_duplicates(inplace=True)\n",
    "\n",
    "# convert 'Published' column to datetime format\n",
    "data_2021['Published'] = pd.to_datetime(data_2021['Published'])\n",
    "\n",
    "# extract year from the 'Published' column\n",
    "data_2021['Published'] = data_2021['Published'].dt.year\n",
    "\n",
    "# Fill NaN's\n",
    "data_2021['Published'].fillna(0).astype(int)\n",
    "data_2021['ProjectsCount'].fillna(0).astype(int)\n",
    "\n",
    "# Drop rows with no language val since that is what we care about\n",
    "data_2021.dropna(subset=['Language'], inplace=True)"
   ]
  },
  {
   "cell_type": "code",
   "execution_count": 8,
   "id": "c53ec92b",
   "metadata": {
    "ExecuteTime": {
     "start_time": "2023-04-26T23:01:50.618823Z",
     "end_time": "2023-04-26T23:01:50.627455Z"
    }
   },
   "outputs": [],
   "source": [
    "# Remove duplicates\n",
    "data_2022.drop_duplicates(inplace=True)\n",
    "\n",
    "# convert 'Published' column to datetime format\n",
    "data_2022['Published'] = pd.to_datetime(data_2022['Published'])\n",
    "\n",
    "# extract year from the 'Published' column\n",
    "data_2022['Published'] = data_2022['Published'].dt.year\n",
    "\n",
    "# Fill NaN's\n",
    "data_2022['Published'].fillna(0).astype(int)\n",
    "data_2022['ProjectsCount'].fillna(0).astype(int)\n",
    "\n",
    "# Drop rows with no language val since that is what we care about\n",
    "data_2022.dropna(subset=['Language'], inplace=True)"
   ]
  },
  {
   "cell_type": "code",
   "execution_count": 9,
   "id": "1f1a441f",
   "metadata": {
    "ExecuteTime": {
     "start_time": "2023-04-26T23:01:50.627974Z",
     "end_time": "2023-04-26T23:01:50.632755Z"
    }
   },
   "outputs": [],
   "source": [
    "data_all = pd.concat([data_2018, data_2019, data_2020, data_2021, data_2022])"
   ]
  },
  {
   "cell_type": "code",
   "execution_count": 10,
   "id": "5daeecfe",
   "metadata": {
    "scrolled": false
   },
   "outputs": [
    {
     "ename": "TypeError",
     "evalue": "Cannot convert tz-naive timestamps, use tz_localize to localize",
     "output_type": "error",
     "traceback": [
      "\u001B[0;31m---------------------------------------------------------------------------\u001B[0m",
      "\u001B[0;31mTypeError\u001B[0m                                 Traceback (most recent call last)",
      "Cell \u001B[0;32mIn[10], line 29\u001B[0m\n\u001B[1;32m     24\u001B[0m data_maintained_relationship \u001B[38;5;241m=\u001B[39m data_all\n\u001B[1;32m     26\u001B[0m \u001B[38;5;66;03m# Convert 'Last_Modified' column to datetime and set timezone to UTC\u001B[39;00m\n\u001B[1;32m     27\u001B[0m data_maintained_relationship[\n\u001B[1;32m     28\u001B[0m     \u001B[38;5;124m'\u001B[39m\u001B[38;5;124mLast_Modified\u001B[39m\u001B[38;5;124m'\u001B[39m\n\u001B[0;32m---> 29\u001B[0m ] \u001B[38;5;241m=\u001B[39m \u001B[43mpd\u001B[49m\u001B[38;5;241;43m.\u001B[39;49m\u001B[43mto_datetime\u001B[49m\u001B[43m(\u001B[49m\u001B[43mdata_maintained_relationship\u001B[49m\u001B[43m[\u001B[49m\u001B[38;5;124;43m'\u001B[39;49m\u001B[38;5;124;43mLast_Modified\u001B[39;49m\u001B[38;5;124;43m'\u001B[39;49m\u001B[43m]\u001B[49m\u001B[43m)\u001B[49m\u001B[38;5;241;43m.\u001B[39;49m\u001B[43mdt\u001B[49m\u001B[38;5;241;43m.\u001B[39;49m\u001B[43mtz_convert\u001B[49m\u001B[43m(\u001B[49m\u001B[43mpytz\u001B[49m\u001B[38;5;241;43m.\u001B[39;49m\u001B[43mUTC\u001B[49m\u001B[43m)\u001B[49m\n\u001B[1;32m     31\u001B[0m \u001B[38;5;66;03m# Calculate the number of days since last modification\u001B[39;00m\n\u001B[1;32m     32\u001B[0m days_since_modified \u001B[38;5;241m=\u001B[39m pd\u001B[38;5;241m.\u001B[39mTimestamp(\u001B[38;5;124m'\u001B[39m\u001B[38;5;124mnow\u001B[39m\u001B[38;5;124m'\u001B[39m, tz\u001B[38;5;241m=\u001B[39mpytz\u001B[38;5;241m.\u001B[39mUTC) \u001B[38;5;241m-\u001B[39m data_maintained_relationship[\u001B[38;5;124m'\u001B[39m\u001B[38;5;124mLast_Modified\u001B[39m\u001B[38;5;124m'\u001B[39m]\n",
      "File \u001B[0;32m~/Projects/TingSyuanWang/Python/SMDM_project_data/venv/lib/python3.9/site-packages/pandas/core/accessor.py:112\u001B[0m, in \u001B[0;36mPandasDelegate._add_delegate_accessors.<locals>._create_delegator_method.<locals>.f\u001B[0;34m(self, *args, **kwargs)\u001B[0m\n\u001B[1;32m    111\u001B[0m \u001B[38;5;28;01mdef\u001B[39;00m \u001B[38;5;21mf\u001B[39m(\u001B[38;5;28mself\u001B[39m, \u001B[38;5;241m*\u001B[39margs, \u001B[38;5;241m*\u001B[39m\u001B[38;5;241m*\u001B[39mkwargs):\n\u001B[0;32m--> 112\u001B[0m     \u001B[38;5;28;01mreturn\u001B[39;00m \u001B[38;5;28;43mself\u001B[39;49m\u001B[38;5;241;43m.\u001B[39;49m\u001B[43m_delegate_method\u001B[49m\u001B[43m(\u001B[49m\u001B[43mname\u001B[49m\u001B[43m,\u001B[49m\u001B[43m \u001B[49m\u001B[38;5;241;43m*\u001B[39;49m\u001B[43margs\u001B[49m\u001B[43m,\u001B[49m\u001B[43m \u001B[49m\u001B[38;5;241;43m*\u001B[39;49m\u001B[38;5;241;43m*\u001B[39;49m\u001B[43mkwargs\u001B[49m\u001B[43m)\u001B[49m\n",
      "File \u001B[0;32m~/Projects/TingSyuanWang/Python/SMDM_project_data/venv/lib/python3.9/site-packages/pandas/core/indexes/accessors.py:128\u001B[0m, in \u001B[0;36mProperties._delegate_method\u001B[0;34m(self, name, *args, **kwargs)\u001B[0m\n\u001B[1;32m    125\u001B[0m values \u001B[38;5;241m=\u001B[39m \u001B[38;5;28mself\u001B[39m\u001B[38;5;241m.\u001B[39m_get_values()\n\u001B[1;32m    127\u001B[0m method \u001B[38;5;241m=\u001B[39m \u001B[38;5;28mgetattr\u001B[39m(values, name)\n\u001B[0;32m--> 128\u001B[0m result \u001B[38;5;241m=\u001B[39m \u001B[43mmethod\u001B[49m\u001B[43m(\u001B[49m\u001B[38;5;241;43m*\u001B[39;49m\u001B[43margs\u001B[49m\u001B[43m,\u001B[49m\u001B[43m \u001B[49m\u001B[38;5;241;43m*\u001B[39;49m\u001B[38;5;241;43m*\u001B[39;49m\u001B[43mkwargs\u001B[49m\u001B[43m)\u001B[49m\n\u001B[1;32m    130\u001B[0m \u001B[38;5;28;01mif\u001B[39;00m \u001B[38;5;129;01mnot\u001B[39;00m is_list_like(result):\n\u001B[1;32m    131\u001B[0m     \u001B[38;5;28;01mreturn\u001B[39;00m result\n",
      "File \u001B[0;32m~/Projects/TingSyuanWang/Python/SMDM_project_data/venv/lib/python3.9/site-packages/pandas/core/indexes/datetimes.py:269\u001B[0m, in \u001B[0;36mDatetimeIndex.tz_convert\u001B[0;34m(self, tz)\u001B[0m\n\u001B[1;32m    267\u001B[0m \u001B[38;5;129m@doc\u001B[39m(DatetimeArray\u001B[38;5;241m.\u001B[39mtz_convert)\n\u001B[1;32m    268\u001B[0m \u001B[38;5;28;01mdef\u001B[39;00m \u001B[38;5;21mtz_convert\u001B[39m(\u001B[38;5;28mself\u001B[39m, tz) \u001B[38;5;241m-\u001B[39m\u001B[38;5;241m>\u001B[39m DatetimeIndex:\n\u001B[0;32m--> 269\u001B[0m     arr \u001B[38;5;241m=\u001B[39m \u001B[38;5;28;43mself\u001B[39;49m\u001B[38;5;241;43m.\u001B[39;49m\u001B[43m_data\u001B[49m\u001B[38;5;241;43m.\u001B[39;49m\u001B[43mtz_convert\u001B[49m\u001B[43m(\u001B[49m\u001B[43mtz\u001B[49m\u001B[43m)\u001B[49m\n\u001B[1;32m    270\u001B[0m     \u001B[38;5;28;01mreturn\u001B[39;00m \u001B[38;5;28mtype\u001B[39m(\u001B[38;5;28mself\u001B[39m)\u001B[38;5;241m.\u001B[39m_simple_new(arr, name\u001B[38;5;241m=\u001B[39m\u001B[38;5;28mself\u001B[39m\u001B[38;5;241m.\u001B[39mname, refs\u001B[38;5;241m=\u001B[39m\u001B[38;5;28mself\u001B[39m\u001B[38;5;241m.\u001B[39m_references)\n",
      "File \u001B[0;32m~/Projects/TingSyuanWang/Python/SMDM_project_data/venv/lib/python3.9/site-packages/pandas/core/arrays/datetimes.py:867\u001B[0m, in \u001B[0;36mDatetimeArray.tz_convert\u001B[0;34m(self, tz)\u001B[0m\n\u001B[1;32m    863\u001B[0m tz \u001B[38;5;241m=\u001B[39m timezones\u001B[38;5;241m.\u001B[39mmaybe_get_tz(tz)\n\u001B[1;32m    865\u001B[0m \u001B[38;5;28;01mif\u001B[39;00m \u001B[38;5;28mself\u001B[39m\u001B[38;5;241m.\u001B[39mtz \u001B[38;5;129;01mis\u001B[39;00m \u001B[38;5;28;01mNone\u001B[39;00m:\n\u001B[1;32m    866\u001B[0m     \u001B[38;5;66;03m# tz naive, use tz_localize\u001B[39;00m\n\u001B[0;32m--> 867\u001B[0m     \u001B[38;5;28;01mraise\u001B[39;00m \u001B[38;5;167;01mTypeError\u001B[39;00m(\n\u001B[1;32m    868\u001B[0m         \u001B[38;5;124m\"\u001B[39m\u001B[38;5;124mCannot convert tz-naive timestamps, use tz_localize to localize\u001B[39m\u001B[38;5;124m\"\u001B[39m\n\u001B[1;32m    869\u001B[0m     )\n\u001B[1;32m    871\u001B[0m \u001B[38;5;66;03m# No conversion since timestamps are all UTC to begin with\u001B[39;00m\n\u001B[1;32m    872\u001B[0m dtype \u001B[38;5;241m=\u001B[39m tz_to_dtype(tz, unit\u001B[38;5;241m=\u001B[39m\u001B[38;5;28mself\u001B[39m\u001B[38;5;241m.\u001B[39munit)\n",
      "\u001B[0;31mTypeError\u001B[0m: Cannot convert tz-naive timestamps, use tz_localize to localize"
     ]
    }
   ],
   "source": [
    "\"\"\"\n",
    "Find a relationship between wether the amount of stars of a language\n",
    "Is in average higher the more it is maintained \n",
    "(closest last_modified date to the current date)\n",
    "\"\"\"\n",
    "\n",
    "\"\"\"\n",
    "This code should calculate the number of days since the last modification of each repository, \n",
    "and then calculate the mean number of stars per day since the last modification for each programming language. \n",
    "It then plots this data as a bar graph.\n",
    "\n",
    "This graph should give you an idea of how the popularity of \n",
    "different programming languages is related to how recently their repositories have been modified. \n",
    "If a language has a high mean number of stars per day since the last modification, \n",
    "it could indicate that the language is popular and actively maintained. \n",
    "Conversely, if a language has a low mean number of stars per day since the last modification, \n",
    "it could indicate that the language is less popular or less actively maintained.\n",
    "\n",
    "Note that this is just one way of exploring the relationship between \n",
    "language stars and how long a repository has been maintained, \n",
    "and there are many other factors that could also influence these trends.\n",
    "\"\"\"\n",
    "\n",
    "data_maintained_relationship = data_all\n",
    "\n",
    "# Convert 'Last_Modified' column to datetime and set timezone to UTC\n",
    "data_maintained_relationship[\n",
    "    'Last_Modified'\n",
    "] = pd.to_datetime(data_maintained_relationship['Last_Modified']).dt.tz_convert(pytz.UTC)\n",
    "\n",
    "# Calculate the number of days since last modification\n",
    "days_since_modified = pd.Timestamp('now', tz=pytz.UTC) - data_maintained_relationship['Last_Modified']\n",
    "\n",
    "# Plot the data as a scatter plot\n",
    "fig, ax = plt.subplots(figsize=(10, 6))\n",
    "\n",
    "ax.scatter(days_since_modified.dt.days, data_maintained_relationship['Stars'])\n",
    "\n",
    "ax.set_xlabel('Days Since Last Modification')\n",
    "ax.set_ylabel('Number of Stars')\n",
    "ax.set_title('Relationship between Language Stars and Days Since Last Modification')\n",
    "\n",
    "plt.show()"
   ]
  },
  {
   "cell_type": "code",
   "execution_count": null,
   "id": "69586b60",
   "metadata": {},
   "outputs": [],
   "source": []
  }
 ],
 "metadata": {
  "kernelspec": {
   "display_name": "Python 3 (ipykernel)",
   "language": "python",
   "name": "python3"
  },
  "language_info": {
   "codemirror_mode": {
    "name": "ipython",
    "version": 3
   },
   "file_extension": ".py",
   "mimetype": "text/x-python",
   "name": "python",
   "nbconvert_exporter": "python",
   "pygments_lexer": "ipython3",
   "version": "3.9.13"
  }
 },
 "nbformat": 4,
 "nbformat_minor": 5
}
