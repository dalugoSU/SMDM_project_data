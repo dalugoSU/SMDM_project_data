{
 "cells": [
  {
   "cell_type": "code",
   "execution_count": 139,
   "id": "901e5e3b",
   "metadata": {},
   "outputs": [],
   "source": [
    "import pandas as pd\n",
    "import ipywidgets as widgets\n",
    "import matplotlib.pyplot as plt\n",
    "import seaborn as sns\n",
    "\n",
    "from IPython.display import display\n",
    "from ipywidgets import interact"
   ]
  },
  {
   "cell_type": "code",
   "execution_count": 2,
   "id": "fa9da211",
   "metadata": {},
   "outputs": [],
   "source": [
    "# Env vars\n",
    "DATA_PATH_2018 = \"2018.csv\"\n",
    "DATA_PATH_2019 = \"2019.csv\"\n",
    "DATA_PATH_2020 = \"2020.csv\"\n",
    "DATA_PATH_2021 = \"2021.csv\"\n",
    "DATA_PATH_2022 = \"2022.csv\"\n",
    "\n",
    "\n",
    "SEP = ','\n",
    "COL_NAMES = [\"RepoID\",\n",
    "            \"Name\",\n",
    "            \"Type\",\n",
    "            \"Topics\",\n",
    "            \"Visibility\",\n",
    "            \"Language\",\n",
    "            \"Published\",\n",
    "            \"Last_Modified\",\n",
    "            \"Stars\",\n",
    "            \"Forks\",\n",
    "            \"WatchCount\",\n",
    "            \"NetworkCount\",\n",
    "            \"IssueCount\",\n",
    "            \"PRCount\",\n",
    "            \"ProjectsCount\",\n",
    "            \"BranchCount\",\n",
    "            \"DownloadCount\",\n",
    "            \"ContributorCount\",\n",
    "            \"RepoURL\"]"
   ]
  },
  {
   "cell_type": "code",
   "execution_count": 3,
   "id": "fd4197ec",
   "metadata": {},
   "outputs": [],
   "source": [
    "# Pull CSV to DF\n",
    "data_2018 = pd.read_csv(DATA_PATH_2018, sep=SEP, names=COL_NAMES)\n",
    "data_2019 = pd.read_csv(DATA_PATH_2019, sep=SEP, names=COL_NAMES)\n",
    "data_2020 = pd.read_csv(DATA_PATH_2020, sep=SEP, names=COL_NAMES)\n",
    "data_2021 = pd.read_csv(DATA_PATH_2021, sep=SEP, names=COL_NAMES)\n",
    "data_2022 = pd.read_csv(DATA_PATH_2022, sep=SEP, names=COL_NAMES)"
   ]
  },
  {
   "cell_type": "code",
   "execution_count": 4,
   "id": "8f85adba",
   "metadata": {},
   "outputs": [],
   "source": [
    "# SANITIZING $\n",
    "\n",
    "# Remove duplicates\n",
    "data_2018.drop_duplicates(inplace=True)\n",
    "\n",
    "# convert 'Published' column to datetime format\n",
    "data_2018['Published'] = pd.to_datetime(data_2018['Published'])\n",
    "\n",
    "# extract year from the 'Published' column\n",
    "data_2018['Published'] = data_2018['Published'].dt.year\n",
    "\n",
    "# Fill NaN's\n",
    "data_2018['Published'].fillna(0).astype(int)\n",
    "data_2018['ProjectsCount'].fillna(0).astype(int)\n",
    "\n",
    "# Drop rows with no language val since that is what we care about\n",
    "data_2018.dropna(subset=['Language'], inplace=True)"
   ]
  },
  {
   "cell_type": "code",
   "execution_count": 5,
   "id": "014a446c",
   "metadata": {},
   "outputs": [],
   "source": [
    "# Remove duplicates\n",
    "data_2019.drop_duplicates(inplace=True)\n",
    "\n",
    "# convert 'Published' column to datetime format\n",
    "data_2019['Published'] = pd.to_datetime(data_2019['Published'])\n",
    "\n",
    "# extract year from the 'Published' column\n",
    "data_2019['Published'] = data_2019['Published'].dt.year\n",
    "\n",
    "# Fill NaN's\n",
    "data_2019['Published'].fillna(0).astype(int)\n",
    "data_2019['ProjectsCount'].fillna(0).astype(int)\n",
    "\n",
    "# Drop rows with no language val since that is what we care about\n",
    "data_2019.dropna(subset=['Language'], inplace=True)"
   ]
  },
  {
   "cell_type": "code",
   "execution_count": 6,
   "id": "addf936c",
   "metadata": {},
   "outputs": [],
   "source": [
    "# Remove duplicates\n",
    "data_2020.drop_duplicates(inplace=True)\n",
    "\n",
    "# convert 'Published' column to datetime format\n",
    "data_2020['Published'] = pd.to_datetime(data_2020['Published'])\n",
    "\n",
    "# extract year from the 'Published' column\n",
    "data_2020['Published'] = data_2020['Published'].dt.year\n",
    "\n",
    "# Fill NaN's\n",
    "data_2020['Published'].fillna(0).astype(int)\n",
    "data_2020['ProjectsCount'].fillna(0).astype(int)\n",
    "\n",
    "# Drop rows with no language val since that is what we care about\n",
    "data_2020.dropna(subset=['Language'], inplace=True)"
   ]
  },
  {
   "cell_type": "code",
   "execution_count": 7,
   "id": "3e74e1cd",
   "metadata": {},
   "outputs": [],
   "source": [
    "# Remove duplicates\n",
    "data_2021.drop_duplicates(inplace=True)\n",
    "\n",
    "# convert 'Published' column to datetime format\n",
    "data_2021['Published'] = pd.to_datetime(data_2021['Published'])\n",
    "\n",
    "# extract year from the 'Published' column\n",
    "data_2021['Published'] = data_2021['Published'].dt.year\n",
    "\n",
    "# Fill NaN's\n",
    "data_2021['Published'].fillna(0).astype(int)\n",
    "data_2021['ProjectsCount'].fillna(0).astype(int)\n",
    "\n",
    "# Drop rows with no language val since that is what we care about\n",
    "data_2021.dropna(subset=['Language'], inplace=True)"
   ]
  },
  {
   "cell_type": "code",
   "execution_count": 8,
   "id": "83325019",
   "metadata": {},
   "outputs": [],
   "source": [
    "# Remove duplicates\n",
    "data_2022.drop_duplicates(inplace=True)\n",
    "\n",
    "# convert 'Published' column to datetime format\n",
    "data_2022['Published'] = pd.to_datetime(data_2022['Published'])\n",
    "\n",
    "# extract year from the 'Published' column\n",
    "data_2022['Published'] = data_2022['Published'].dt.year\n",
    "\n",
    "# Fill NaN's\n",
    "data_2022['Published'].fillna(0).astype(int)\n",
    "data_2022['ProjectsCount'].fillna(0).astype(int)\n",
    "\n",
    "# Drop rows with no language val since that is what we care about\n",
    "data_2022.dropna(subset=['Language'], inplace=True)"
   ]
  },
  {
   "cell_type": "code",
   "execution_count": 196,
   "id": "d65118fd",
   "metadata": {},
   "outputs": [],
   "source": [
    "data_all = pd.concat([data_2018, data_2019, data_2020, data_2021, data_2022])"
   ]
  },
  {
   "cell_type": "code",
   "execution_count": 197,
   "id": "609025d9",
   "metadata": {},
   "outputs": [
    {
     "data": {
      "application/vnd.jupyter.widget-view+json": {
       "model_id": "9450d8d56cd9443a8263b2be7fad30a4",
       "version_major": 2,
       "version_minor": 0
      },
      "text/plain": [
       "interactive(children=(Dropdown(description='Top', options=('Language', 5, 10), value='Language'), Dropdown(des…"
      ]
     },
     "metadata": {},
     "output_type": "display_data"
    }
   ],
   "source": [
    "\n",
    "# View Language With the most of its attribute for a specific year or over the course of 2018-2022\n",
    "\n",
    "data_options = [\"Stars\", \n",
    "                \"Forks\", \n",
    "                \"WatchCount\", \n",
    "                \"NetworkCount\", \n",
    "                \"IssueCount\", \n",
    "                \"PRCount\", \n",
    "                \"ProjectsCount\",\n",
    "                \"BranchCount\",\n",
    "                \"ContributorCount\"]\n",
    "\n",
    "quantity_options = [\"Language\", 5, 10]\n",
    "\n",
    "\n",
    "@interact(Top=quantity_options, \n",
    "          Year=list(i_data['Published'].unique()) + ['All'], \n",
    "          Most=data_options)\n",
    "def filter_dataframe(Top, Year, Most):\n",
    "    \n",
    "    i_data = data_all\n",
    "    \n",
    "    if Year != 'All':\n",
    "        i_data = i_data[i_data['Published'] == Year] # filter rows for specific year\n",
    "    \n",
    "    grouped = i_data.groupby('Language')[Most].sum().reset_index() # group by language and sum stars\n",
    "        \n",
    "    sorted_grouped = grouped.sort_values(by=Most, ascending=False).reset_index(drop=True)[['Language', Most]] # sort by stars in descending order\n",
    "    sorted_grouped.index += 1\n",
    "    \n",
    "    if Top == 5:\n",
    "        return sorted_grouped.iloc[:5]\n",
    "    elif Top == 10:\n",
    "        return sorted_grouped.iloc[:10]\n",
    "    else:\n",
    "        return sorted_grouped.iloc[[0]]\n",
    "\n"
   ]
  },
  {
   "cell_type": "code",
   "execution_count": null,
   "id": "57e9c418",
   "metadata": {},
   "outputs": [],
   "source": []
  }
 ],
 "metadata": {
  "kernelspec": {
   "display_name": "Python 3 (ipykernel)",
   "language": "python",
   "name": "python3"
  },
  "language_info": {
   "codemirror_mode": {
    "name": "ipython",
    "version": 3
   },
   "file_extension": ".py",
   "mimetype": "text/x-python",
   "name": "python",
   "nbconvert_exporter": "python",
   "pygments_lexer": "ipython3",
   "version": "3.9.13"
  }
 },
 "nbformat": 4,
 "nbformat_minor": 5
}
